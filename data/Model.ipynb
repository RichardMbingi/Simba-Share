{
 "cells": [
  {
   "cell_type": "code",
   "execution_count": 13,
   "metadata": {
    "scrolled": true
   },
   "outputs": [
    {
     "name": "stdout",
     "output_type": "stream",
     "text": [
      "                     1. open  2. high  3. low  4. close  5. volume\n",
      "date                                                              \n",
      "2019-10-17 16:00:00    73.97    73.97   73.91     73.94    12569.0\n",
      "2019-10-17 15:59:00    73.96    73.97   73.96     73.96     2120.0\n",
      "2019-10-17 15:58:00    73.98    74.00   73.97     73.97    16250.0\n",
      "2019-10-17 15:57:00    73.95    73.98   73.95     73.98     6835.0\n",
      "2019-10-17 15:56:00    73.99    73.99   73.96     73.96     9276.0\n",
      "...                      ...      ...     ...       ...        ...\n",
      "2019-10-10 09:35:00    72.99    73.02   72.96     73.02     6967.0\n",
      "2019-10-10 09:34:00    73.02    73.07   72.94     72.99    15770.0\n",
      "2019-10-10 09:33:00    72.96    73.00   72.94     73.00    10085.0\n",
      "2019-10-10 09:32:00    72.83    73.00   72.83     72.95    15813.0\n",
      "2019-10-10 09:31:00    72.83    72.83   72.83     72.83        0.0\n",
      "\n",
      "[1928 rows x 5 columns]\n"
     ]
    },
    {
     "data": {
      "image/png": "[encoded data removed]",
      "text/plain": [
       "<Figure size 432x288 with 1 Axes>"
      ]
     },
     "metadata": {
      "needs_background": "light"
     },
     "output_type": "display_data"
    }
   ],
   "source": [
    "from alpha_vantage.timeseries import TimeSeries\n",
    "import matplotlib.pyplot as plt\n",
    "ts = TimeSeries(key='43OX7U3GKG0BJG8Y',output_format='pandas')\n",
    "data, meta_data = ts.get_intraday(symbol='TSE:TD',interval='1min', outputsize='full')\n",
    "print(data)\n",
    "data['4. close'].plot()\n",
    "plt.title('Intraday TimeSeries Google')\n",
    "plt.show()"
   ]
  },
  {
   "cell_type": "code",
   "execution_count": 1,
   "metadata": {},
   "outputs": [],
   "source": [
    "from pandas_datareader import data\n",
    "import matplotlib.pyplot as plt\n",
    "import pandas as pd\n",
    "import datetime as dt\n",
    "import urllib.request, json\n",
    "import os\n",
    "import numpy as np\n",
    "import tensorflow as tf # This code has been tested with TensorFlow 1.6\n",
    "from sklearn.preprocessing import MinMaxScaler"
   ]
  },
  {
   "cell_type": "code",
   "execution_count": 12,
   "metadata": {},
   "outputs": [],
   "source": [
    "\n",
    "data_source = 'alphavantage'\n",
    "# ====================== Loading Data from Alpha Vantage ==================================\n",
    "\n",
    "api_key = '43OX7U3GKG0BJG8Y'\n",
    "\n",
    "# American Airlines stock market prices\n",
    "ticker = \"AAL\"\n",
    "\n",
    "# JSON file with all the stock market data for AAL from the last 20 years\n",
    "url_string = \"https://www.alphavantage.co/query?function=TIME_SERIES_DAILY&symbol=%s&outputsize=full&apikey=%s\"%(ticker,api_key)\n",
    "\n",
    "# Save data to this file\n",
    "file_to_save = 'stock_market_data-AAL-%s.csv'%ticker \n",
    "   "
   ]
  },
  {
   "cell_type": "code",
   "execution_count": null,
   "metadata": {},
   "outputs": [],
   "source": []
  }
 ],
 "metadata": {
  "kernelspec": {
   "display_name": "Python 3",
   "language": "python",
   "name": "python3"
  },
  "language_info": {
   "codemirror_mode": {
    "name": "ipython",
    "version": 3
   },
   "file_extension": ".py",
   "mimetype": "text/x-python",
   "name": "python",
   "nbconvert_exporter": "python",
   "pygments_lexer": "ipython3",
   "version": "3.6.9"
  }
 },
 "nbformat": 4,
 "nbformat_minor": 2
}
